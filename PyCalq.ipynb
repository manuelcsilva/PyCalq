{
  "nbformat": 4,
  "nbformat_minor": 0,
  "metadata": {
    "colab": {
      "provenance": [],
      "authorship_tag": "ABX9TyOpnS0LWegFM9ga8uqD4J97",
      "include_colab_link": true
    },
    "kernelspec": {
      "name": "python3",
      "display_name": "Python 3"
    },
    "language_info": {
      "name": "python"
    }
  },
  "cells": [
    {
      "cell_type": "markdown",
      "metadata": {
        "id": "view-in-github",
        "colab_type": "text"
      },
      "source": [
        "<a href=\"https://colab.research.google.com/github/manuelcsilva/PyCalq/blob/main/PyCalq.ipynb\" target=\"_parent\"><img src=\"https://colab.research.google.com/assets/colab-badge.svg\" alt=\"Open In Colab\"/></a>"
      ]
    },
    {
      "cell_type": "code",
      "execution_count": 1,
      "metadata": {
        "colab": {
          "base_uri": "https://localhost:8080/"
        },
        "id": "vY0aklVXPGNB",
        "outputId": "e5417355-3802-4e6b-f980-1a5d71ccc23f"
      },
      "outputs": [
        {
          "output_type": "stream",
          "name": "stdout",
          "text": [
            "--Calculadora--\n",
            "Número 1: 5\n",
            "Operação(+, -, x, :): +\n",
            "Número 2: 5\n",
            "O resultado de 5 + 5 é 10\n"
          ]
        }
      ],
      "source": [
        "print('--Calculadora--')\n",
        "n1 = int(input('Número 1: '))\n",
        "op = input('Operação(+, -, x, :): ')\n",
        "n2 = int(input('Número 2: '))\n",
        "\n",
        "if op == '+':\n",
        "  r = n1 + n2\n",
        "elif op == '-':\n",
        "  r = n1 - n2\n",
        "elif op == 'x':\n",
        "  r = n1 * n2\n",
        "else:\n",
        "  r = n1 / n2\n",
        "print(f'O resultado de {n1} {op} {n2} é {r}')"
      ]
    }
  ]
}