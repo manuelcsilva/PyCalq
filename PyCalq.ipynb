{
  "cells": [
    {
      "cell_type": "markdown",
      "metadata": {
        "colab_type": "text",
        "id": "view-in-github"
      },
      "source": [
        "<a href=\"https://colab.research.google.com/github/manuelcsilva/PyCalq/blob/main/PyCalq.ipynb\" target=\"_parent\"><img src=\"https://colab.research.google.com/assets/colab-badge.svg\" alt=\"Open In Colab\"/></a>"
      ]
    },
    {
      "cell_type": "code",
      "execution_count": 1,
      "metadata": {
        "colab": {
          "base_uri": "https://localhost:8080/"
        },
        "id": "vY0aklVXPGNB",
        "outputId": "e5417355-3802-4e6b-f980-1a5d71ccc23f"
      },
      "outputs": [
        {
          "name": "stdout",
          "output_type": "stream",
          "text": [
            "--Calculadora--\n",
            "O resultado de 2 + 8 é 10\n"
          ]
        }
      ],
      "source": [
        "print('--Calculadora--')\n",
        "n1 = int(input('Número 1: '))\n",
        "op = input('Operação(+, -, x, :): ')\n",
        "n2 = int(input('Número 2: '))\n",
        "\n",
        "if op == '+':\n",
        "  r = n1 + n2\n",
        "elif op == '-':\n",
        "  r = n1 - n2\n",
        "elif op == 'x':\n",
        "  r = n1 * n2\n",
        "else:\n",
        "  r = n1 / n2\n",
        "print(f'O resultado de {n1} {op} {n2} é {r}')"
      ]
    }
  ],
  "metadata": {
    "colab": {
      "authorship_tag": "ABX9TyOpnS0LWegFM9ga8uqD4J97",
      "include_colab_link": true,
      "provenance": []
    },
    "kernelspec": {
      "display_name": "Python 3",
      "name": "python3"
    },
    "language_info": {
      "codemirror_mode": {
        "name": "ipython",
        "version": 3
      },
      "file_extension": ".py",
      "mimetype": "text/x-python",
      "name": "python",
      "nbconvert_exporter": "python",
      "pygments_lexer": "ipython3",
      "version": "3.12.2"
    }
  },
  "nbformat": 4,
  "nbformat_minor": 0
}
